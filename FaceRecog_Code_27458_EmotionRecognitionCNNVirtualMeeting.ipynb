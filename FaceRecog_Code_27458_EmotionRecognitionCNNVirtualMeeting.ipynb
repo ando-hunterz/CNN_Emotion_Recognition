{
 "cells": [
  {
   "cell_type": "code",
   "execution_count": null,
   "metadata": {
    "id": "DfPfNYPVonXe"
   },
   "outputs": [],
   "source": [
    "import cv2\n",
    "import numpy as np\n",
    "import matplotlib.pyplot as plt\n",
    "from keras.models import Sequential\n",
    "from keras.layers import Dense, Dropout, Activation, Flatten, InputLayer\n",
    "from keras.layers import Conv2D, MaxPooling2D, BatchNormalization,AveragePooling2D\n",
    "from keras.callbacks import ModelCheckpoint, EarlyStopping\n",
    "import keras.models as Model\n",
    "from tkinter import *"
   ]
  },
  {
   "cell_type": "code",
   "execution_count": null,
   "metadata": {},
   "outputs": [],
   "source": [
    "import tensorflow as tf\n",
    "print(tf.__version__)"
   ]
  },
  {
   "cell_type": "code",
   "execution_count": 6,
   "metadata": {},
   "outputs": [],
   "source": [
    "model = Model.load_model('model_73_check.hdf5')"
   ]
  },
  {
   "cell_type": "code",
   "execution_count": 7,
   "metadata": {
    "id": "3KObiG5jpbL-"
   },
   "outputs": [],
   "source": [
    "def detect_emotion(img):\n",
    "    \n",
    "    face_cascade = cv2.CascadeClassifier('haarcascade_frontalface_default.xml')\n",
    "    gray = cv2.cvtColor(img, cv2.COLOR_BGR2GRAY)\n",
    "    faces = face_cascade.detectMultiScale(gray, 1.1, 5)\n",
    "    face_arr = []\n",
    "    for (x,y,w,h) in faces:\n",
    "        face = gray[y:y + h, x:x + w]\n",
    "        face = cv2.resize(face, (48,48), interpolation = cv2.INTER_AREA)\n",
    "        face = np.resize(face, (48,48,1))\n",
    "        face_arr = []\n",
    "        face_arr.append(face)\n",
    "        face_arr = np.array(face_arr)\n",
    "        \n",
    "        img = cv2.rectangle(img, (x, y) , (x+w,y+h), (255,0,0))\n",
    "        prediction = model.predict(face_arr)\n",
    "        Expressions = [\"Angry\",\"Disgust\",\"Fear\",\"Happy\",\"Sad\",\"Surprise\",\"Neutral\"]\n",
    "        result = Expressions[prediction.argmax()]\n",
    "        img = cv2.putText(img, result, (x,y), cv2.FONT_HERSHEY_SIMPLEX, \n",
    "                       1, (255,0,0), 5, cv2.LINE_AA)\n",
    "    return img"
   ]
  },
  {
   "cell_type": "code",
   "execution_count": 8,
   "metadata": {},
   "outputs": [],
   "source": [
    "def evaluate_student_emotion(img):\n",
    "    img = cv2.imread(img)\n",
    "    detect_emotion(img)\n",
    "    cv2.namedWindow('result',cv2.WINDOW_NORMAL)\n",
    "    cv2.resizeWindow('result', 1080,720)\n",
    "    cv2.imshow('result',img)\n",
    "    cv2.waitKey(0) \n",
    "    cv2.destroyAllWindows() "
   ]
  },
  {
   "cell_type": "code",
   "execution_count": 9,
   "metadata": {},
   "outputs": [],
   "source": [
    "evaluate_student_emotion('zoom_test.png')"
   ]
  },
  {
   "cell_type": "code",
   "execution_count": null,
   "metadata": {},
   "outputs": [],
   "source": []
  }
 ],
 "metadata": {
  "colab": {
   "collapsed_sections": [],
   "name": "UAS_PEMVIS.ipynb",
   "provenance": []
  },
  "kernelspec": {
   "display_name": "Python 3",
   "language": "python",
   "name": "python3"
  },
  "language_info": {
   "codemirror_mode": {
    "name": "ipython",
    "version": 3
   },
   "file_extension": ".py",
   "mimetype": "text/x-python",
   "name": "python",
   "nbconvert_exporter": "python",
   "pygments_lexer": "ipython3",
   "version": "3.8.5"
  }
 },
 "nbformat": 4,
 "nbformat_minor": 1
}
